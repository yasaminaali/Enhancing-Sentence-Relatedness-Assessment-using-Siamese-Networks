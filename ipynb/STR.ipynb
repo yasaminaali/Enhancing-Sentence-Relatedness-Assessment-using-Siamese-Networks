{
 "cells": [
  {
   "cell_type": "code",
   "execution_count": null,
   "id": "887e25a7",
   "metadata": {},
   "outputs": [],
   "source": [
    "import re\n",
    "import pandas as pd\n",
    "import numpy as np\n",
    "from scipy.stats import spearmanr, pearsonr\n",
    "import matplotlib.pyplot as plt\n",
    "plt.style.use('ggplot')\n",
    "import string\n",
    "from nltk.corpus import stopwords\n",
    "import nltk\n",
    "nltk.download('stopwords')\n",
    "from sklearn.metrics.pairwise import cosine_similarity\n",
    "from transformers import AutoTokenizer, AutoModel\n",
    "import torch\n",
    "import tensorflow as tf\n",
    "import tensorflow_hub as hub\n",
    "from sklearn.model_selection import train_test_split\n",
    "from scipy.stats import pearsonr\n",
    "from transformers import BertTokenizer, TFBertModel\n",
    "from transformers import RobertaTokenizer, TFRobertaModel"
   ]
  },
  {
   "cell_type": "code",
   "execution_count": null,
   "id": "d4370c33",
   "metadata": {},
   "outputs": [],
   "source": [
    "# Assuming 'Text' contains two sentences separated by '\\n'\n",
    "\n",
    "data[['Sentence1', 'Sentence2']] = data['Text'].str.split('\\n', expand=True)\n",
    "\n",
    "# Split the labeled dataset into training and validation sets\n",
    "\n",
    "train_data, val_data = train_test_split(data, test_size=0.2, random_state=42)\n"
   ]
  },
  {
   "cell_type": "code",
   "execution_count": null,
   "id": "fbe5b75a",
   "metadata": {},
   "outputs": [],
   "source": [
    "# Load Universal Sentence Encoder(USE) model from TensorFlow Hub\n",
    "\n",
    "use_model_url = \"https://tfhub.dev/google/universal-sentence-encoder/4\"\n",
    "use_embed = hub.load(use_model_url)\n"
   ]
  },
  {
   "cell_type": "code",
   "execution_count": null,
   "id": "441423c3",
   "metadata": {},
   "outputs": [],
   "source": [
    "# Encode sentences using USE\n",
    "\n",
    "train_data['Embed1'] = use_embed(train_data['Sentence1'].tolist()).numpy().tolist()\n",
    "train_data['Embed2'] = use_embed(train_data['Sentence2'].tolist()).numpy().tolist()\n",
    "\n",
    "val_data['Embed1'] = use_embed(val_data['Sentence1'].tolist()).numpy().tolist()\n",
    "val_data['Embed2'] = use_embed(val_data['Sentence2'].tolist()).numpy().tolist()\n"
   ]
  },
  {
   "cell_type": "code",
   "execution_count": null,
   "id": "11942a7d",
   "metadata": {},
   "outputs": [],
   "source": [
    "# Siamese Network \n",
    "\n",
    "input1 = tf.keras.layers.Input(shape=(512,))\n",
    "input2 = tf.keras.layers.Input(shape=(512,))\n",
    "merged = tf.keras.layers.Lambda(lambda x: tf.norm(x[0] - x[1], axis=-1))(inputs=[input1, input2])\n",
    "\n",
    "reshaped = tf.keras.layers.Reshape((1,))(merged)\n",
    "output = tf.keras.layers.Dense(1, activation='sigmoid')(reshaped)\n",
    "\n",
    "siamese_model = tf.keras.models.Model(inputs=[input1, input2], outputs=output)\n",
    "siamese_model.compile(optimizer='adam', loss='mse')\n"
   ]
  },
  {
   "cell_type": "code",
   "execution_count": null,
   "id": "721ffd8e",
   "metadata": {},
   "outputs": [],
   "source": [
    "\n",
    "X_train1 = tf.constant(train_data['Embed1'].tolist())\n",
    "X_train2 = tf.constant(train_data['Embed2'].tolist())\n",
    "y_train = train_data['Score'].values\n",
    "\n",
    "X_val1 = tf.constant(val_data['Embed1'].tolist())\n",
    "X_val2 = tf.constant(val_data['Embed2'].tolist())\n",
    "y_val = val_data['Score'].values\n"
   ]
  },
  {
   "cell_type": "code",
   "execution_count": null,
   "id": "26f9c025",
   "metadata": {},
   "outputs": [],
   "source": [
    "# Train the Siamese Network\n",
    "\n",
    "siamese_model.fit([X_train1, X_train2], y_train, epochs=3, batch_size=8, validation_data=([X_val1, X_val2], y_val))"
   ]
  },
  {
   "cell_type": "code",
   "execution_count": null,
   "id": "afdc7db6",
   "metadata": {},
   "outputs": [],
   "source": [
    "# Predictions\n",
    "\n",
    "val_data['Predicted_Score'] = siamese_model.predict([X_val1, X_val2])"
   ]
  }
 ],
 "metadata": {
  "kernelspec": {
   "display_name": "Python 3",
   "language": "python",
   "name": "python3"
  },
  "language_info": {
   "codemirror_mode": {
    "name": "ipython",
    "version": 3
   },
   "file_extension": ".py",
   "mimetype": "text/x-python",
   "name": "python",
   "nbconvert_exporter": "python",
   "pygments_lexer": "ipython3",
   "version": "3.8.8"
  }
 },
 "nbformat": 4,
 "nbformat_minor": 5
}
